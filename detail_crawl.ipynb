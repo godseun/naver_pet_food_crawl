{
 "metadata": {
  "language_info": {
   "codemirror_mode": {
    "name": "ipython",
    "version": 3
   },
   "file_extension": ".py",
   "mimetype": "text/x-python",
   "name": "python",
   "nbconvert_exporter": "python",
   "pygments_lexer": "ipython3",
   "version": 3
  },
  "orig_nbformat": 2
 },
 "nbformat": 4,
 "nbformat_minor": 2,
 "cells": [
  {
   "cell_type": "code",
   "execution_count": null,
   "metadata": {},
   "outputs": [],
   "source": [
    "import time, random\n",
    "from selenium import webdriver\n",
    "from db_conn import select_data, push_prod_data2\n",
    "\n",
    "def get_ext2(detail_price, ext1):\n",
    "    if 'kg' in ext1:\n",
    "        hund_price = float(detail_price.replace(',', ''))\n",
    "        weight = float(ext1.replace('kg', ''))\n",
    "        weight = weight * 1000\n",
    "        return str(int(hund_price / weight * 100))\n",
    "    elif 'g' in ext1:\n",
    "        hund_price = float(detail_price.replace(',', ''))\n",
    "        weight = float(ext1.replace('g', ''))\n",
    "        return str(int(hund_price / weight * 100))\n",
    "    return ''\n",
    "\n",
    "driver = webdriver.Chrome('chromedriver')\n",
    "driver.implicitly_wait(2)"
   ]
  },
  {
   "cell_type": "code",
   "execution_count": null,
   "metadata": {},
   "outputs": [],
   "source": [
    "page = 0\n",
    "pagelimit = 100\n",
    "\n",
    "temp_list = select_data({'page': page, 'pagelimit': pagelimit})\n",
    "for temp in temp_list:\n",
    "    parent_pcode = temp[1]\n",
    "    driver.get(f'https://search.shopping.naver.com/catalog/{parent_pcode}')\n",
    "    time.sleep(random.randint(1, 2))\n",
    "    style_detail = driver.find_element_by_css_selector('div[class^=\"style_detail\"]')\n",
    "    ext_list = style_detail.find_elements_by_css_selector('div[class^=\"filter_condition_group\"] > ul > li')\n",
    "    if len(ext_list) == 0:\n",
    "        pcode = parent_pcode+'-1'\n",
    "        ext = driver.find_element_by_css_selector('div[class^=\"productList_product\"] > a').text\n",
    "        detail_price = driver.find_element_by_css_selector('div[class^=\"productList_price\"] > a > span > em').text\n",
    "        detail_price = detail_price.replace('원', '')\n",
    "        ext1 = ext.split(' ')[-1]\n",
    "        ext2 = get_ext2(detail_price, ext1)\n",
    "        push_prod_data2({\n",
    "            'parent_pcode': parent_pcode,\n",
    "            'pcode': pcode,\n",
    "            'price': detail_price,\n",
    "            'href': 'check',\n",
    "            'ext1': ext1,\n",
    "            'ext2': ext2+'원/100g',\n",
    "        })\n",
    "\n",
    "    for i, ext in enumerate(ext_list):\n",
    "        pcode = parent_pcode+'-'+str(i+1)\n",
    "        detail_price = ext.find_element_by_css_selector('span[class^=\"filter_price\"]').text\n",
    "        detail_price = detail_price.replace('모바일', '')\n",
    "        detail_price = detail_price.replace('원', '')\n",
    "        ext1 = ext.find_element_by_css_selector('span[class^=\"filter_text\"]').text\n",
    "        ext2 = get_ext2(detail_price, ext1)\n",
    "        push_prod_data2({\n",
    "            'parent_pcode': parent_pcode,\n",
    "            'pcode': pcode,\n",
    "            'price': detail_price,\n",
    "            'href': '',\n",
    "            'ext1': ext1,\n",
    "            'ext2': ext2+'원/100g',\n",
    "        })\n",
    "\n",
    "    time.sleep(random.randint(1, 3))"
   ]
  },
  {
   "cell_type": "code",
   "execution_count": null,
   "metadata": {},
   "outputs": [],
   "source": [
    "driver.quit()"
   ]
  }
 ]
}